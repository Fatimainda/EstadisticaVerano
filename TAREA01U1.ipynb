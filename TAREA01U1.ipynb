{
  "nbformat": 4,
  "nbformat_minor": 0,
  "metadata": {
    "colab": {
      "provenance": [],
      "include_colab_link": true
    },
    "kernelspec": {
      "name": "python3",
      "display_name": "Python 3"
    },
    "language_info": {
      "name": "python"
    }
  },
  "cells": [
    {
      "cell_type": "markdown",
      "metadata": {
        "id": "view-in-github",
        "colab_type": "text"
      },
      "source": [
        "<a href=\"https://colab.research.google.com/github/Fatimainda/EstadisticaVerano/blob/main/TAREA01U1.ipynb\" target=\"_parent\"><img src=\"https://colab.research.google.com/assets/colab-badge.svg\" alt=\"Open In Colab\"/></a>"
      ]
    },
    {
      "cell_type": "markdown",
      "source": [
        "# Tipos de datos: flotantes (float)\n",
        "Declara dos variables de tipo flotante que tengan por nombre `a` y `b`. Después muéstralas usando la función `print`.\n",
        "\n",
        "\n"
      ],
      "metadata": {
        "id": "RWt28y6BDzzT"
      }
    },
    {
      "cell_type": "code",
      "execution_count": null,
      "metadata": {
        "id": "Dh2HcNCMDxmY"
      },
      "outputs": [],
      "source": [
        "a=4.5"
      ]
    },
    {
      "cell_type": "code",
      "source": [
        "b=10.5"
      ],
      "metadata": {
        "id": "5FKy64kLuZO0"
      },
      "execution_count": null,
      "outputs": []
    },
    {
      "cell_type": "code",
      "source": [
        "print(\"a=\",a)"
      ],
      "metadata": {
        "colab": {
          "base_uri": "https://localhost:8080/"
        },
        "id": "mvWLwcfOugH0",
        "outputId": "87440265-c524-4948-b839-940465f6984a"
      },
      "execution_count": null,
      "outputs": [
        {
          "output_type": "stream",
          "name": "stdout",
          "text": [
            "a= 4.5\n"
          ]
        }
      ]
    },
    {
      "cell_type": "code",
      "source": [
        "print(\"b\",b)"
      ],
      "metadata": {
        "colab": {
          "base_uri": "https://localhost:8080/"
        },
        "id": "L2i8P4v-u1Zs",
        "outputId": "991b0a2a-2649-4f2c-e3cd-4a0c4a135041"
      },
      "execution_count": null,
      "outputs": [
        {
          "output_type": "stream",
          "name": "stdout",
          "text": [
            "b 10.5\n"
          ]
        }
      ]
    },
    {
      "cell_type": "markdown",
      "source": [
        "Declara una variable `c` cuyo valor sea $\\frac{b^2}{4a}-3$, muéstralo en pantalla usando la función `print`.\n",
        "\n"
      ],
      "metadata": {
        "id": "kOWRNQD9KZ3T"
      }
    },
    {
      "cell_type": "code",
      "source": [
        "c=(b**2)/4*a-3"
      ],
      "metadata": {
        "id": "4Kd2Pth5LPux"
      },
      "execution_count": null,
      "outputs": []
    },
    {
      "cell_type": "code",
      "source": [
        "print(c)"
      ],
      "metadata": {
        "colab": {
          "base_uri": "https://localhost:8080/"
        },
        "id": "ftTUr_cDvVR1",
        "outputId": "24ae570a-4c67-4f28-ff6e-619429f58245"
      },
      "execution_count": null,
      "outputs": [
        {
          "output_type": "stream",
          "name": "stdout",
          "text": [
            "121.03125\n"
          ]
        }
      ]
    },
    {
      "cell_type": "markdown",
      "source": [
        "Declara las variables:\n",
        "$$x_1 = \\frac{-b + \\sqrt{b^2 - 4ac}}{2a}$$ <br>\n",
        "$$x_2 = \\frac{-b - \\sqrt{b^2 - 4ac}}{2a}$$ <br>\n",
        "Muéstralas en pantalla usando la función `print`."
      ],
      "metadata": {
        "id": "YmFfmkiOLXbk"
      }
    },
    {
      "cell_type": "code",
      "source": [
        "x_1=(-b-(b*2-4*a*c)*0.5)/(2*a)"
      ],
      "metadata": {
        "id": "QSFiwnIJLfDL"
      },
      "execution_count": null,
      "outputs": []
    },
    {
      "cell_type": "code",
      "source": [
        "x_2=(-b-(b*2-4*a*c)*0.5)/(2*a)"
      ],
      "metadata": {
        "id": "R7MFpJ_izPIK"
      },
      "execution_count": null,
      "outputs": []
    },
    {
      "cell_type": "code",
      "source": [
        "print(x_1)"
      ],
      "metadata": {
        "colab": {
          "base_uri": "https://localhost:8080/"
        },
        "id": "tLRpHpNazW0i",
        "outputId": "985145b4-10ec-491e-e3fe-90280b184419"
      },
      "execution_count": null,
      "outputs": [
        {
          "output_type": "stream",
          "name": "stdout",
          "text": [
            "118.69791666666667\n"
          ]
        }
      ]
    },
    {
      "cell_type": "code",
      "source": [
        "print(x_2)"
      ],
      "metadata": {
        "colab": {
          "base_uri": "https://localhost:8080/"
        },
        "id": "9yUfb2drzaDK",
        "outputId": "47b1b894-16c0-464e-a693-c5ba18b94d58"
      },
      "execution_count": null,
      "outputs": [
        {
          "output_type": "stream",
          "name": "stdout",
          "text": [
            "118.69791666666667\n"
          ]
        }
      ]
    },
    {
      "cell_type": "markdown",
      "source": [
        "Usa `type` para saber qué tipo de dato es $x_1$"
      ],
      "metadata": {
        "id": "QjWmahAlMEe_"
      }
    },
    {
      "cell_type": "code",
      "source": [
        "type(x_1)"
      ],
      "metadata": {
        "id": "X671SWpZMM7o",
        "colab": {
          "base_uri": "https://localhost:8080/"
        },
        "outputId": "082b8a60-d799-49d7-b726-f6daca628cb1"
      },
      "execution_count": null,
      "outputs": [
        {
          "output_type": "execute_result",
          "data": {
            "text/plain": [
              "float"
            ]
          },
          "metadata": {},
          "execution_count": 11
        }
      ]
    },
    {
      "cell_type": "markdown",
      "source": [
        "# Tipos de datos: boleanos (bool)\n",
        "\n",
        "Declara una variable llamada `mayor_que` cuyo valor sea `a > b`. Imprime en pantalla `a`, `b` y `mayor_que`. ¿Qué crees que signifique el valor de `mayor_que`?"
      ],
      "metadata": {
        "id": "7y-4H2ELMuLD"
      }
    },
    {
      "cell_type": "code",
      "source": [
        "mayor_que=a>b"
      ],
      "metadata": {
        "id": "o3CKfK3cNfXp"
      },
      "execution_count": null,
      "outputs": []
    },
    {
      "cell_type": "code",
      "source": [
        "print(a)"
      ],
      "metadata": {
        "colab": {
          "base_uri": "https://localhost:8080/"
        },
        "id": "dW55470G0Yby",
        "outputId": "8e726b28-2365-4578-c239-0a55439b4b7d"
      },
      "execution_count": null,
      "outputs": [
        {
          "output_type": "stream",
          "name": "stdout",
          "text": [
            "4.5\n"
          ]
        }
      ]
    },
    {
      "cell_type": "code",
      "source": [
        "print(b)"
      ],
      "metadata": {
        "colab": {
          "base_uri": "https://localhost:8080/"
        },
        "id": "4ouza-u30ksB",
        "outputId": "8bbd82ca-d669-42e2-854d-2edaed33fd94"
      },
      "execution_count": null,
      "outputs": [
        {
          "output_type": "stream",
          "name": "stdout",
          "text": [
            "10.5\n"
          ]
        }
      ]
    },
    {
      "cell_type": "code",
      "source": [
        "print(mayor_que)"
      ],
      "metadata": {
        "colab": {
          "base_uri": "https://localhost:8080/"
        },
        "id": "4A0wfshx0nHZ",
        "outputId": "4b3c37df-20c9-4bd8-c2bb-12e54e9361f4"
      },
      "execution_count": null,
      "outputs": [
        {
          "output_type": "stream",
          "name": "stdout",
          "text": [
            "False\n"
          ]
        }
      ]
    },
    {
      "cell_type": "markdown",
      "source": [
        "Declara una variable llamada `mayor_o_igual_que` cuyo valor sea `a >= b`. Imprime en pantalla `a`, `b` y `mayor_o_igual_que`. ¿Qué crees que signifique el valor de `mayor_o_igual_que`?"
      ],
      "metadata": {
        "id": "BAczf10jZ4ID"
      }
    },
    {
      "cell_type": "code",
      "source": [
        "mayor_o_igual_que=a>=b"
      ],
      "metadata": {
        "id": "ZnPuv1MsZ4cb"
      },
      "execution_count": null,
      "outputs": []
    },
    {
      "cell_type": "code",
      "source": [
        "print(a)"
      ],
      "metadata": {
        "colab": {
          "base_uri": "https://localhost:8080/"
        },
        "outputId": "29638cc8-81a2-4380-8cdb-35c299118a1b",
        "id": "aejGNYOh2d8b"
      },
      "execution_count": null,
      "outputs": [
        {
          "output_type": "stream",
          "name": "stdout",
          "text": [
            "4.5\n"
          ]
        }
      ]
    },
    {
      "cell_type": "code",
      "source": [
        "print(b)"
      ],
      "metadata": {
        "colab": {
          "base_uri": "https://localhost:8080/"
        },
        "outputId": "0cc12903-0dd8-4259-98db-dfc3cbae667f",
        "id": "NUU4fDpD2o4b"
      },
      "execution_count": null,
      "outputs": [
        {
          "output_type": "stream",
          "name": "stdout",
          "text": [
            "10.5\n"
          ]
        }
      ]
    },
    {
      "cell_type": "code",
      "source": [
        "print(mayor_o_igual_que)"
      ],
      "metadata": {
        "colab": {
          "base_uri": "https://localhost:8080/"
        },
        "id": "n-VPF1-o2r5v",
        "outputId": "e23a5993-1c06-4db2-a36a-6bb03d4d6d58"
      },
      "execution_count": null,
      "outputs": [
        {
          "output_type": "stream",
          "name": "stdout",
          "text": [
            "False\n"
          ]
        }
      ]
    },
    {
      "cell_type": "markdown",
      "source": [
        "Declara una variable con el nombre de `es_igual` cuyo valor sea `a == b`. Imprime en pantalla `a`, `b`, y `es_igual` ¿Qué crees que signifique el resultado de `es_igual`?"
      ],
      "metadata": {
        "id": "OWfchV0UNizG"
      }
    },
    {
      "cell_type": "code",
      "source": [
        "es_igual=a==b"
      ],
      "metadata": {
        "id": "A5eewm6yOQn-"
      },
      "execution_count": null,
      "outputs": []
    },
    {
      "cell_type": "code",
      "source": [
        "print(a)"
      ],
      "metadata": {
        "colab": {
          "base_uri": "https://localhost:8080/"
        },
        "id": "FIGvXj_63lCv",
        "outputId": "03fc6621-310b-4f01-a6cf-dfda6a5e52b0"
      },
      "execution_count": null,
      "outputs": [
        {
          "output_type": "stream",
          "name": "stdout",
          "text": [
            "4.5\n"
          ]
        }
      ]
    },
    {
      "cell_type": "code",
      "source": [
        "print(b)"
      ],
      "metadata": {
        "colab": {
          "base_uri": "https://localhost:8080/"
        },
        "id": "sErgZ3Zd3qOe",
        "outputId": "be684e9e-f921-4427-9929-85302e4aff55"
      },
      "execution_count": null,
      "outputs": [
        {
          "output_type": "stream",
          "name": "stdout",
          "text": [
            "10.5\n"
          ]
        }
      ]
    },
    {
      "cell_type": "code",
      "source": [
        "print(es_igual)"
      ],
      "metadata": {
        "colab": {
          "base_uri": "https://localhost:8080/"
        },
        "id": "dO5xHdGu3tqZ",
        "outputId": "7130be86-08d8-40ea-8b1f-fe45cf5bc982"
      },
      "execution_count": null,
      "outputs": [
        {
          "output_type": "stream",
          "name": "stdout",
          "text": [
            "False\n"
          ]
        }
      ]
    },
    {
      "cell_type": "markdown",
      "source": [
        "Declara una variable con el nombre de `es_desigual` cuyo valor sea `a != b`. Imprime en pantalla `a`, `b`, y `es_desigual` ¿Qué crees que signifique el resultado de `es_desigual`?"
      ],
      "metadata": {
        "id": "BlGpY3C-aID6"
      }
    },
    {
      "cell_type": "code",
      "source": [
        "es_desigual=a!=b"
      ],
      "metadata": {
        "id": "1iQgMlt9aIPp"
      },
      "execution_count": null,
      "outputs": []
    },
    {
      "cell_type": "code",
      "source": [
        "print(a)"
      ],
      "metadata": {
        "colab": {
          "base_uri": "https://localhost:8080/"
        },
        "id": "viUMEQCu33pP",
        "outputId": "a030e0ca-5c5a-4392-8848-b4ca51525382"
      },
      "execution_count": null,
      "outputs": [
        {
          "output_type": "stream",
          "name": "stdout",
          "text": [
            "4.5\n"
          ]
        }
      ]
    },
    {
      "cell_type": "code",
      "source": [
        "print(b)"
      ],
      "metadata": {
        "colab": {
          "base_uri": "https://localhost:8080/"
        },
        "id": "65eHO0E435qg",
        "outputId": "30e91e32-b052-4ef1-b365-c7d876e346de"
      },
      "execution_count": null,
      "outputs": [
        {
          "output_type": "stream",
          "name": "stdout",
          "text": [
            "10.5\n"
          ]
        }
      ]
    },
    {
      "cell_type": "code",
      "source": [
        "print(es_desigual)"
      ],
      "metadata": {
        "colab": {
          "base_uri": "https://localhost:8080/"
        },
        "id": "UCAOAbMx39Be",
        "outputId": "a2746b2d-45f4-495a-b982-19cf4480d8e5"
      },
      "execution_count": null,
      "outputs": [
        {
          "output_type": "stream",
          "name": "stdout",
          "text": [
            "True\n"
          ]
        }
      ]
    },
    {
      "cell_type": "markdown",
      "source": [
        "Declara una variable llamada `verdadero` cuyo valor sea `True` y otra variable llamada `falso` cuyo valor sea `False`. Imprime ambos valores en pantalla. Además, usando la función `type`, obtén el tipo de dato que es `verdader` y `falso`."
      ],
      "metadata": {
        "id": "7EnSab2UOX_v"
      }
    },
    {
      "cell_type": "code",
      "source": [
        "verdadero=True"
      ],
      "metadata": {
        "id": "EgRwz_eqZoc8"
      },
      "execution_count": null,
      "outputs": []
    },
    {
      "cell_type": "code",
      "source": [
        "falso=False"
      ],
      "metadata": {
        "id": "HLQWDWMi4Jw2"
      },
      "execution_count": null,
      "outputs": []
    },
    {
      "cell_type": "code",
      "source": [
        "type(verdadero)"
      ],
      "metadata": {
        "colab": {
          "base_uri": "https://localhost:8080/"
        },
        "id": "SeGSNOkv4NTW",
        "outputId": "674cdbcd-a6e8-46af-9806-44fcc2ab644e"
      },
      "execution_count": null,
      "outputs": [
        {
          "output_type": "execute_result",
          "data": {
            "text/plain": [
              "bool"
            ]
          },
          "metadata": {},
          "execution_count": 33
        }
      ]
    },
    {
      "cell_type": "code",
      "source": [
        "type(falso)"
      ],
      "metadata": {
        "colab": {
          "base_uri": "https://localhost:8080/"
        },
        "id": "m2Z_pwTn4Rk2",
        "outputId": "f6a7c71e-6708-4df8-9116-1daed28f2bc6"
      },
      "execution_count": null,
      "outputs": [
        {
          "output_type": "execute_result",
          "data": {
            "text/plain": [
              "bool"
            ]
          },
          "metadata": {},
          "execution_count": 34
        }
      ]
    },
    {
      "cell_type": "markdown",
      "source": [
        "# Tipo de datos: cadena de caractéres (strings)\n",
        "\n",
        "Declara una variable `nombre` cuyo valor es tu nombre completo con apellidos. Ejemplo: <br><br>\n",
        "```nombre = 'Faustino Perez Díaz'```\n",
        "<br><br>\n",
        "Mediante la función `print` imprime las iniciales de tu nombre tomadas de la variable `nombre`."
      ],
      "metadata": {
        "id": "WJeaF8CVaoxb"
      }
    },
    {
      "cell_type": "code",
      "source": [
        "nombre=\"fatima sarahi inda lomas\""
      ],
      "metadata": {
        "id": "iJtLISzzGj_h"
      },
      "execution_count": null,
      "outputs": []
    },
    {
      "cell_type": "code",
      "source": [
        "print(nombre[0],nombre[7],nombre[12],nombre[19])"
      ],
      "metadata": {
        "colab": {
          "base_uri": "https://localhost:8080/"
        },
        "id": "WBAqE6pFG8Us",
        "outputId": "fa22e80c-4379-45e3-b293-4038b35d7400"
      },
      "execution_count": null,
      "outputs": [
        {
          "output_type": "stream",
          "name": "stdout",
          "text": [
            "f s i l\n"
          ]
        }
      ]
    },
    {
      "cell_type": "markdown",
      "source": [
        "Mediante `print` imprime sólo tu primer apellido utilizando slicing en la variable `nombre`. Recuerda que slicing es: `lista[inicio:fin:paso]`."
      ],
      "metadata": {
        "id": "QxAiswQ7GlHe"
      }
    },
    {
      "cell_type": "code",
      "source": [
        "nombre[13:18]"
      ],
      "metadata": {
        "id": "gqvvAvLmHBxh",
        "colab": {
          "base_uri": "https://localhost:8080/",
          "height": 35
        },
        "outputId": "b68fb1f6-628f-4373-a72e-404494da44ce"
      },
      "execution_count": null,
      "outputs": [
        {
          "output_type": "execute_result",
          "data": {
            "text/plain": [
              "' inda'"
            ],
            "application/vnd.google.colaboratory.intrinsic+json": {
              "type": "string"
            }
          },
          "metadata": {},
          "execution_count": 41
        }
      ]
    },
    {
      "cell_type": "markdown",
      "source": [
        "Aplica el método `.upper()` a la variable `nombre` e imprime el resultado."
      ],
      "metadata": {
        "id": "JO-uttyYHCk4"
      }
    },
    {
      "cell_type": "code",
      "source": [
        "nombre.upper()"
      ],
      "metadata": {
        "colab": {
          "base_uri": "https://localhost:8080/",
          "height": 35
        },
        "id": "A2-IJkd-H8Pc",
        "outputId": "0533540b-b30b-4695-cf9d-e2a8d72d9ab9"
      },
      "execution_count": null,
      "outputs": [
        {
          "output_type": "execute_result",
          "data": {
            "text/plain": [
              "'FATIMA SARAHI INDA LOMAS'"
            ],
            "application/vnd.google.colaboratory.intrinsic+json": {
              "type": "string"
            }
          },
          "metadata": {},
          "execution_count": 46
        }
      ]
    }
  ]
}